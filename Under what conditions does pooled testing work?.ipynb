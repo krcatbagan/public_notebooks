{
 "cells": [
  {
   "cell_type": "code",
   "execution_count": 3,
   "metadata": {},
   "outputs": [],
   "source": [
    "import numpy as np\n",
    "import scipy.stats as stats"
   ]
  },
  {
   "cell_type": "code",
   "execution_count": 32,
   "metadata": {},
   "outputs": [],
   "source": [
    "history = []\n",
    "\n",
    "def binary_test(roster):\n",
    "    global history\n",
    "    \n",
    "    n = len(roster)\n",
    "    s = sum([x[1] for x in roster]) \n",
    "    \n",
    "    results = []\n",
    "    \n",
    "    result_string = \"Positive\" if s > 0 else \"Negative\"\n",
    "    \n",
    "    history.append(([x[0] for x in roster], result_string))\n",
    "    \n",
    "    \n",
    "    if len(roster) <= 1:\n",
    "        results.extend(roster)\n",
    "#         return results\n",
    "    elif s == 0:\n",
    "        results.extend(roster)\n",
    "#         return results\n",
    "    else:\n",
    "        cut = n // 2\n",
    "        a = roster[:cut]\n",
    "        b = roster[cut:]\n",
    "        r1 = binary_test(a)\n",
    "        r2 = binary_test(b)\n",
    "        results.extend(r1)\n",
    "        results.extend(r2)\n",
    "        \n",
    "    return results"
   ]
  },
  {
   "cell_type": "code",
   "execution_count": null,
   "metadata": {},
   "outputs": [],
   "source": [
    "pcr_capacity_options = [32, 96, 384, 1536]\n",
    "PROBS = {\n",
    "    'pos': 54231*800/7.8e9 ,\n",
    "    'asymp_|_pos': 0.3,\n",
    "}\n",
    "\n",
    "class XaryTest:\n",
    "    \n",
    "    def __init__(self, patient_list, split=0.5, n_machines=1, machine_capacity=32):\n",
    "        self.patient_list = patient_list\n",
    "        self.n_machines = n_machines\n",
    "        self.machine_capacity = machine_capacity\n",
    "        \n",
    "        self.history = []\n",
    "    \n",
    "    def _split_by_fraction(self):\n",
    "        pass\n",
    "    \n",
    "    def _split_by_count(self):\n",
    "        pass\n",
    "    \n",
    "    def _pui_test(self):\n",
    "        pass\n",
    "    \n",
    "    def _naive_test(self):\n",
    "        n = self.patient_list\n",
    "        s = sum([x[1] for x in roster]) \n",
    "\n",
    "        results = []\n",
    "\n",
    "        result_string = \"Positive\" if s > 0 else \"Negative\"\n",
    "\n",
    "        history.append(([x[0] for x in roster], result_string))\n",
    "\n",
    "\n",
    "        if len(roster) <= 1:\n",
    "            results.extend(roster)\n",
    "    #         return results\n",
    "        elif s == 0:\n",
    "            results.extend(roster)\n",
    "    #         return results\n",
    "        else:\n",
    "            cut = n // 2\n",
    "            a = roster[:cut]\n",
    "            b = roster[cut:]\n",
    "            r1 = binary_test(a)\n",
    "            r2 = binary_test(b)\n",
    "            results.extend(r1)\n",
    "            results.extend(r2)\n",
    "\n",
    "        return results\n",
    "    \n",
    "    def xary_test(self):\n",
    "        pass\n",
    "    \n",
    "class PatientList(self):\n",
    "    \n",
    "    def __init__(self, probs=PROBS, n_patients=1024):\n",
    "        self.n_patients\n",
    "        \n",
    "    def _compute_probs(self):\n",
    "        pass "
   ]
  },
  {
   "cell_type": "code",
   "execution_count": 6,
   "metadata": {},
   "outputs": [
    {
     "data": {
      "text/plain": [
       "array([False,  True, False, False, False,  True, False, False, False,\n",
       "       False,  True, False, False, False, False, False, False, False,\n",
       "        True,  True, False, False, False, False, False,  True, False,\n",
       "       False, False, False,  True, False])"
      ]
     },
     "execution_count": 6,
     "metadata": {},
     "output_type": "execute_result"
    }
   ],
   "source": [
    "roster"
   ]
  },
  {
   "cell_type": "code",
   "execution_count": 33,
   "metadata": {},
   "outputs": [],
   "source": [
    "history = []\n",
    "roster = [(j, np.random.choice([1, 0], p=[0.2, 0.8])) for j in range(4)]\n",
    "results = binary_test(roster)"
   ]
  },
  {
   "cell_type": "code",
   "execution_count": 28,
   "metadata": {},
   "outputs": [],
   "source": [
    "from collections import defaultdict"
   ]
  },
  {
   "cell_type": "code",
   "execution_count": 8,
   "metadata": {},
   "outputs": [],
   "source": [
    "\n",
    "def timeline(history):\n",
    "    when_detect = defaultdict(list)\n",
    "\n",
    "    for ix, (sample, result) in enumerate(history):\n",
    "\n",
    "        if len(sample) > 1 and result == \"Negative\":\n",
    "            when_detect[ix].extend(sample)\n",
    "        elif len(sample) == 1:\n",
    "            when_detect[ix].extend(sample)\n",
    "    \n",
    "    return when_detect"
   ]
  },
  {
   "cell_type": "code",
   "execution_count": 34,
   "metadata": {},
   "outputs": [
    {
     "name": "stdout",
     "output_type": "stream",
     "text": [
      "Test 1 included patients: \n",
      "[0, 1, 2, 3]\n",
      " and tested:\n",
      " Negative\n",
      "\n"
     ]
    }
   ],
   "source": [
    "for ix, (pool, result) in enumerate(history):\n",
    "    print(f\"Test {ix + 1} included patients: \\n{pool}\\n and tested:\\n {result}\\n\")"
   ]
  },
  {
   "cell_type": "code",
   "execution_count": 24,
   "metadata": {},
   "outputs": [],
   "source": [
    "def solve_k(p):\n",
    "    #(1-p) ^k = 1/2\n",
    "    q = 1 - p\n",
    "    k = np.log(0.5) / np.log(q)\n",
    "    return k"
   ]
  },
  {
   "cell_type": "code",
   "execution_count": 26,
   "metadata": {},
   "outputs": [
    {
     "data": {
      "text/plain": [
       "13.513407333964874"
      ]
     },
     "execution_count": 26,
     "metadata": {},
     "output_type": "execute_result"
    }
   ],
   "source": [
    "solve_k(0.05)"
   ]
  },
  {
   "cell_type": "code",
   "execution_count": 10,
   "metadata": {},
   "outputs": [],
   "source": [
    "from tqdm import trange"
   ]
  },
  {
   "cell_type": "code",
   "execution_count": 21,
   "metadata": {},
   "outputs": [
    {
     "name": "stderr",
     "output_type": "stream",
     "text": [
      "100%|██████████| 10000/10000 [00:20<00:00, 498.39it/s]\n"
     ]
    }
   ],
   "source": [
    "N = 10000\n",
    "his_lens = []\n",
    "num_negative = {}\n",
    "\n",
    "p = 0.05\n",
    "for j in trange(N):\n",
    "    \n",
    "    roster = [(j+1, np.random.choice([True, False], p=[p, 1-p])) for j in range(32)]\n",
    "    history = []\n",
    "    _ = binary_test(roster)\n",
    "    his_lens.append(len(history))\n",
    "    when_detect = timeline(history)\n",
    "    num_negative.update({k + 32 * j: len(v) for k, v in when_detect.items()})\n",
    "    "
   ]
  },
  {
   "cell_type": "markdown",
   "metadata": {},
   "source": [
    "p asymptomatic = 1 * 1 - ppos + p asymptomatic | pos p pos\n",
    "p positive = 1e6 / 7e9\n",
    "p asymptomatic | positive = 0.3\n",
    "p positive | asymptomatic"
   ]
  },
  {
   "cell_type": "code",
   "execution_count": 20,
   "metadata": {},
   "outputs": [
    {
     "data": {
      "text/plain": [
       "<matplotlib.axes._subplots.AxesSubplot at 0x1188d4160>"
      ]
     },
     "execution_count": 20,
     "metadata": {},
     "output_type": "execute_result"
    },
    {
     "data": {
      "image/png": "[encoded data removed]",
      "text/plain": [
       "<Figure size 432x288 with 1 Axes>"
      ]
     },
     "metadata": {
      "needs_background": "light"
     },
     "output_type": "display_data"
    }
   ],
   "source": [
    "import seaborn as sns\n",
    "%matplotlib inline\n",
    "\n",
    "sns.distplot(his_lens)"
   ]
  },
  {
   "cell_type": "code",
   "execution_count": 383,
   "metadata": {},
   "outputs": [],
   "source": [
    "p_P = 1e6 / 7e9"
   ]
  },
  {
   "cell_type": "code",
   "execution_count": 384,
   "metadata": {},
   "outputs": [],
   "source": [
    "p_A_P = 0.3"
   ]
  },
  {
   "cell_type": "code",
   "execution_count": 385,
   "metadata": {},
   "outputs": [],
   "source": [
    "p_A = 1. * (1 - p_P) + p_A_P * p_P"
   ]
  },
  {
   "cell_type": "code",
   "execution_count": 386,
   "metadata": {},
   "outputs": [],
   "source": [
    "p_P_A = p_A_P * p_P / p_A"
   ]
  },
  {
   "cell_type": "code",
   "execution_count": 387,
   "metadata": {},
   "outputs": [
    {
     "data": {
      "text/plain": [
       "0.9999"
      ]
     },
     "execution_count": 387,
     "metadata": {},
     "output_type": "execute_result"
    }
   ],
   "source": [
    "p_A"
   ]
  },
  {
   "cell_type": "code",
   "execution_count": 391,
   "metadata": {},
   "outputs": [
    {
     "data": {
      "text/plain": [
       "4.286142900004286e-05"
      ]
     },
     "execution_count": 391,
     "metadata": {},
     "output_type": "execute_result"
    }
   ],
   "source": [
    "p_P_A"
   ]
  },
  {
   "cell_type": "code",
   "execution_count": 389,
   "metadata": {},
   "outputs": [
    {
     "data": {
      "text/plain": [
       "0.00014285714285714287"
      ]
     },
     "execution_count": 389,
     "metadata": {},
     "output_type": "execute_result"
    }
   ],
   "source": [
    "p_P"
   ]
  },
  {
   "cell_type": "code",
   "execution_count": 400,
   "metadata": {},
   "outputs": [],
   "source": [
    "p_P_nA = (1 - p_A_P) * p_P / (1 - p_A)"
   ]
  },
  {
   "cell_type": "code",
   "execution_count": 401,
   "metadata": {},
   "outputs": [
    {
     "data": {
      "text/plain": [
       "1.0000000000001101"
      ]
     },
     "execution_count": 401,
     "metadata": {},
     "output_type": "execute_result"
    }
   ],
   "source": [
    "p_P_nA"
   ]
  },
  {
   "cell_type": "code",
   "execution_count": null,
   "metadata": {},
   "outputs": [],
   "source": [
    "sns.kdeplot(his_lens)"
   ]
  },
  {
   "cell_type": "code",
   "execution_count": 380,
   "metadata": {},
   "outputs": [
    {
     "data": {
      "text/plain": [
       "2.996620352985355"
      ]
     },
     "execution_count": 380,
     "metadata": {},
     "output_type": "execute_result"
    }
   ],
   "source": [
    "np.mean([*num_negative.values()])"
   ]
  },
  {
   "cell_type": "code",
   "execution_count": 374,
   "metadata": {},
   "outputs": [
    {
     "ename": "TypeError",
     "evalue": "unsupported operand type(s) for /: 'dict_values' and 'int'",
     "output_type": "error",
     "traceback": [
      "\u001b[0;31m---------------------------------------------------------------------------\u001b[0m",
      "\u001b[0;31mTypeError\u001b[0m                                 Traceback (most recent call last)",
      "\u001b[0;32m<ipython-input-374-640c7f23861d>\u001b[0m in \u001b[0;36m<module>\u001b[0;34m\u001b[0m\n\u001b[0;32m----> 1\u001b[0;31m \u001b[0mnp\u001b[0m\u001b[0;34m.\u001b[0m\u001b[0mmean\u001b[0m\u001b[0;34m(\u001b[0m\u001b[0mnum_negative\u001b[0m\u001b[0;34m.\u001b[0m\u001b[0mvalues\u001b[0m\u001b[0;34m(\u001b[0m\u001b[0;34m)\u001b[0m\u001b[0;34m)\u001b[0m\u001b[0;34m\u001b[0m\u001b[0;34m\u001b[0m\u001b[0m\n\u001b[0m",
      "\u001b[0;32m<__array_function__ internals>\u001b[0m in \u001b[0;36mmean\u001b[0;34m(*args, **kwargs)\u001b[0m\n",
      "\u001b[0;32m/anaconda3/lib/python3.7/site-packages/numpy/core/fromnumeric.py\u001b[0m in \u001b[0;36mmean\u001b[0;34m(a, axis, dtype, out, keepdims)\u001b[0m\n\u001b[1;32m   3333\u001b[0m \u001b[0;34m\u001b[0m\u001b[0m\n\u001b[1;32m   3334\u001b[0m     return _methods._mean(a, axis=axis, dtype=dtype,\n\u001b[0;32m-> 3335\u001b[0;31m                           out=out, **kwargs)\n\u001b[0m\u001b[1;32m   3336\u001b[0m \u001b[0;34m\u001b[0m\u001b[0m\n\u001b[1;32m   3337\u001b[0m \u001b[0;34m\u001b[0m\u001b[0m\n",
      "\u001b[0;32m/anaconda3/lib/python3.7/site-packages/numpy/core/_methods.py\u001b[0m in \u001b[0;36m_mean\u001b[0;34m(a, axis, dtype, out, keepdims)\u001b[0m\n\u001b[1;32m    161\u001b[0m             \u001b[0mret\u001b[0m \u001b[0;34m=\u001b[0m \u001b[0mret\u001b[0m\u001b[0;34m.\u001b[0m\u001b[0mdtype\u001b[0m\u001b[0;34m.\u001b[0m\u001b[0mtype\u001b[0m\u001b[0;34m(\u001b[0m\u001b[0mret\u001b[0m \u001b[0;34m/\u001b[0m \u001b[0mrcount\u001b[0m\u001b[0;34m)\u001b[0m\u001b[0;34m\u001b[0m\u001b[0;34m\u001b[0m\u001b[0m\n\u001b[1;32m    162\u001b[0m     \u001b[0;32melse\u001b[0m\u001b[0;34m:\u001b[0m\u001b[0;34m\u001b[0m\u001b[0;34m\u001b[0m\u001b[0m\n\u001b[0;32m--> 163\u001b[0;31m         \u001b[0mret\u001b[0m \u001b[0;34m=\u001b[0m \u001b[0mret\u001b[0m \u001b[0;34m/\u001b[0m \u001b[0mrcount\u001b[0m\u001b[0;34m\u001b[0m\u001b[0;34m\u001b[0m\u001b[0m\n\u001b[0m\u001b[1;32m    164\u001b[0m \u001b[0;34m\u001b[0m\u001b[0m\n\u001b[1;32m    165\u001b[0m     \u001b[0;32mreturn\u001b[0m \u001b[0mret\u001b[0m\u001b[0;34m\u001b[0m\u001b[0;34m\u001b[0m\u001b[0m\n",
      "\u001b[0;31mTypeError\u001b[0m: unsupported operand type(s) for /: 'dict_values' and 'int'"
     ]
    }
   ],
   "source": [
    "np.mean(num_negative.values())"
   ]
  },
  {
   "cell_type": "code",
   "execution_count": 347,
   "metadata": {},
   "outputs": [
    {
     "data": {
      "text/plain": [
       "3.846"
      ]
     },
     "execution_count": 347,
     "metadata": {},
     "output_type": "execute_result"
    }
   ],
   "source": [
    "np.mean(his_lens)"
   ]
  },
  {
   "cell_type": "code",
   "execution_count": 361,
   "metadata": {},
   "outputs": [
    {
     "data": {
      "text/html": [
       "<div>\n",
       "<style scoped>\n",
       "    .dataframe tbody tr th:only-of-type {\n",
       "        vertical-align: middle;\n",
       "    }\n",
       "\n",
       "    .dataframe tbody tr th {\n",
       "        vertical-align: top;\n",
       "    }\n",
       "\n",
       "    .dataframe thead th {\n",
       "        text-align: right;\n",
       "    }\n",
       "</style>\n",
       "<table border=\"1\" class=\"dataframe\">\n",
       "  <thead>\n",
       "    <tr style=\"text-align: right;\">\n",
       "      <th></th>\n",
       "      <th>index</th>\n",
       "      <th>0</th>\n",
       "    </tr>\n",
       "  </thead>\n",
       "  <tbody>\n",
       "    <tr>\n",
       "      <th>0</th>\n",
       "      <td>1</td>\n",
       "      <td>16</td>\n",
       "    </tr>\n",
       "    <tr>\n",
       "      <th>1</th>\n",
       "      <td>5</td>\n",
       "      <td>18</td>\n",
       "    </tr>\n",
       "    <tr>\n",
       "      <th>2</th>\n",
       "      <td>7</td>\n",
       "      <td>19</td>\n",
       "    </tr>\n",
       "    <tr>\n",
       "      <th>3</th>\n",
       "      <td>8</td>\n",
       "      <td>20</td>\n",
       "    </tr>\n",
       "    <tr>\n",
       "      <th>4</th>\n",
       "      <td>9</td>\n",
       "      <td>24</td>\n",
       "    </tr>\n",
       "    <tr>\n",
       "      <th>5</th>\n",
       "      <td>10</td>\n",
       "      <td>32</td>\n",
       "    </tr>\n",
       "    <tr>\n",
       "      <th>6</th>\n",
       "      <td>34</td>\n",
       "      <td>40</td>\n",
       "    </tr>\n",
       "    <tr>\n",
       "      <th>7</th>\n",
       "      <td>37</td>\n",
       "      <td>42</td>\n",
       "    </tr>\n",
       "    <tr>\n",
       "      <th>8</th>\n",
       "      <td>39</td>\n",
       "      <td>43</td>\n",
       "    </tr>\n",
       "    <tr>\n",
       "      <th>9</th>\n",
       "      <td>40</td>\n",
       "      <td>44</td>\n",
       "    </tr>\n",
       "    <tr>\n",
       "      <th>10</th>\n",
       "      <td>41</td>\n",
       "      <td>48</td>\n",
       "    </tr>\n",
       "    <tr>\n",
       "      <th>11</th>\n",
       "      <td>42</td>\n",
       "      <td>64</td>\n",
       "    </tr>\n",
       "    <tr>\n",
       "      <th>12</th>\n",
       "      <td>64</td>\n",
       "      <td>96</td>\n",
       "    </tr>\n",
       "    <tr>\n",
       "      <th>13</th>\n",
       "      <td>99</td>\n",
       "      <td>100</td>\n",
       "    </tr>\n",
       "    <tr>\n",
       "      <th>14</th>\n",
       "      <td>102</td>\n",
       "      <td>101</td>\n",
       "    </tr>\n",
       "    <tr>\n",
       "      <th>15</th>\n",
       "      <td>103</td>\n",
       "      <td>102</td>\n",
       "    </tr>\n",
       "    <tr>\n",
       "      <th>16</th>\n",
       "      <td>104</td>\n",
       "      <td>104</td>\n",
       "    </tr>\n",
       "    <tr>\n",
       "      <th>17</th>\n",
       "      <td>105</td>\n",
       "      <td>112</td>\n",
       "    </tr>\n",
       "    <tr>\n",
       "      <th>18</th>\n",
       "      <td>106</td>\n",
       "      <td>128</td>\n",
       "    </tr>\n",
       "    <tr>\n",
       "      <th>19</th>\n",
       "      <td>129</td>\n",
       "      <td>144</td>\n",
       "    </tr>\n",
       "    <tr>\n",
       "      <th>20</th>\n",
       "      <td>131</td>\n",
       "      <td>152</td>\n",
       "    </tr>\n",
       "    <tr>\n",
       "      <th>21</th>\n",
       "      <td>135</td>\n",
       "      <td>153</td>\n",
       "    </tr>\n",
       "    <tr>\n",
       "      <th>22</th>\n",
       "      <td>136</td>\n",
       "      <td>154</td>\n",
       "    </tr>\n",
       "    <tr>\n",
       "      <th>23</th>\n",
       "      <td>137</td>\n",
       "      <td>156</td>\n",
       "    </tr>\n",
       "    <tr>\n",
       "      <th>24</th>\n",
       "      <td>138</td>\n",
       "      <td>160</td>\n",
       "    </tr>\n",
       "    <tr>\n",
       "      <th>25</th>\n",
       "      <td>160</td>\n",
       "      <td>192</td>\n",
       "    </tr>\n",
       "    <tr>\n",
       "      <th>26</th>\n",
       "      <td>192</td>\n",
       "      <td>224</td>\n",
       "    </tr>\n",
       "    <tr>\n",
       "      <th>27</th>\n",
       "      <td>225</td>\n",
       "      <td>240</td>\n",
       "    </tr>\n",
       "    <tr>\n",
       "      <th>28</th>\n",
       "      <td>227</td>\n",
       "      <td>248</td>\n",
       "    </tr>\n",
       "    <tr>\n",
       "      <th>29</th>\n",
       "      <td>231</td>\n",
       "      <td>249</td>\n",
       "    </tr>\n",
       "    <tr>\n",
       "      <th>...</th>\n",
       "      <td>...</td>\n",
       "      <td>...</td>\n",
       "    </tr>\n",
       "    <tr>\n",
       "      <th>3925</th>\n",
       "      <td>31776</td>\n",
       "      <td>31808</td>\n",
       "    </tr>\n",
       "    <tr>\n",
       "      <th>3926</th>\n",
       "      <td>31808</td>\n",
       "      <td>31840</td>\n",
       "    </tr>\n",
       "    <tr>\n",
       "      <th>3927</th>\n",
       "      <td>31843</td>\n",
       "      <td>31844</td>\n",
       "    </tr>\n",
       "    <tr>\n",
       "      <th>3928</th>\n",
       "      <td>31846</td>\n",
       "      <td>31845</td>\n",
       "    </tr>\n",
       "    <tr>\n",
       "      <th>3929</th>\n",
       "      <td>31847</td>\n",
       "      <td>31846</td>\n",
       "    </tr>\n",
       "    <tr>\n",
       "      <th>3930</th>\n",
       "      <td>31848</td>\n",
       "      <td>31848</td>\n",
       "    </tr>\n",
       "    <tr>\n",
       "      <th>3931</th>\n",
       "      <td>31849</td>\n",
       "      <td>31856</td>\n",
       "    </tr>\n",
       "    <tr>\n",
       "      <th>3932</th>\n",
       "      <td>31850</td>\n",
       "      <td>31872</td>\n",
       "    </tr>\n",
       "    <tr>\n",
       "      <th>3933</th>\n",
       "      <td>31875</td>\n",
       "      <td>31876</td>\n",
       "    </tr>\n",
       "    <tr>\n",
       "      <th>3934</th>\n",
       "      <td>31878</td>\n",
       "      <td>31877</td>\n",
       "    </tr>\n",
       "    <tr>\n",
       "      <th>3935</th>\n",
       "      <td>31879</td>\n",
       "      <td>31878</td>\n",
       "    </tr>\n",
       "    <tr>\n",
       "      <th>3936</th>\n",
       "      <td>31880</td>\n",
       "      <td>31880</td>\n",
       "    </tr>\n",
       "    <tr>\n",
       "      <th>3937</th>\n",
       "      <td>31883</td>\n",
       "      <td>31882</td>\n",
       "    </tr>\n",
       "    <tr>\n",
       "      <th>3938</th>\n",
       "      <td>31885</td>\n",
       "      <td>31883</td>\n",
       "    </tr>\n",
       "    <tr>\n",
       "      <th>3939</th>\n",
       "      <td>31886</td>\n",
       "      <td>31884</td>\n",
       "    </tr>\n",
       "    <tr>\n",
       "      <th>3940</th>\n",
       "      <td>31887</td>\n",
       "      <td>31888</td>\n",
       "    </tr>\n",
       "    <tr>\n",
       "      <th>3941</th>\n",
       "      <td>31888</td>\n",
       "      <td>31904</td>\n",
       "    </tr>\n",
       "    <tr>\n",
       "      <th>3942</th>\n",
       "      <td>31904</td>\n",
       "      <td>31936</td>\n",
       "    </tr>\n",
       "    <tr>\n",
       "      <th>3943</th>\n",
       "      <td>31937</td>\n",
       "      <td>31952</td>\n",
       "    </tr>\n",
       "    <tr>\n",
       "      <th>3944</th>\n",
       "      <td>31939</td>\n",
       "      <td>31960</td>\n",
       "    </tr>\n",
       "    <tr>\n",
       "      <th>3945</th>\n",
       "      <td>31943</td>\n",
       "      <td>31961</td>\n",
       "    </tr>\n",
       "    <tr>\n",
       "      <th>3946</th>\n",
       "      <td>31944</td>\n",
       "      <td>31962</td>\n",
       "    </tr>\n",
       "    <tr>\n",
       "      <th>3947</th>\n",
       "      <td>31945</td>\n",
       "      <td>31964</td>\n",
       "    </tr>\n",
       "    <tr>\n",
       "      <th>3948</th>\n",
       "      <td>31946</td>\n",
       "      <td>31968</td>\n",
       "    </tr>\n",
       "    <tr>\n",
       "      <th>3949</th>\n",
       "      <td>31969</td>\n",
       "      <td>31984</td>\n",
       "    </tr>\n",
       "    <tr>\n",
       "      <th>3950</th>\n",
       "      <td>31971</td>\n",
       "      <td>31992</td>\n",
       "    </tr>\n",
       "    <tr>\n",
       "      <th>3951</th>\n",
       "      <td>31973</td>\n",
       "      <td>31996</td>\n",
       "    </tr>\n",
       "    <tr>\n",
       "      <th>3952</th>\n",
       "      <td>31975</td>\n",
       "      <td>31998</td>\n",
       "    </tr>\n",
       "    <tr>\n",
       "      <th>3953</th>\n",
       "      <td>31977</td>\n",
       "      <td>31999</td>\n",
       "    </tr>\n",
       "    <tr>\n",
       "      <th>3954</th>\n",
       "      <td>31978</td>\n",
       "      <td>32000</td>\n",
       "    </tr>\n",
       "  </tbody>\n",
       "</table>\n",
       "<p>3955 rows × 2 columns</p>\n",
       "</div>"
      ],
      "text/plain": [
       "      index      0\n",
       "0         1     16\n",
       "1         5     18\n",
       "2         7     19\n",
       "3         8     20\n",
       "4         9     24\n",
       "5        10     32\n",
       "6        34     40\n",
       "7        37     42\n",
       "8        39     43\n",
       "9        40     44\n",
       "10       41     48\n",
       "11       42     64\n",
       "12       64     96\n",
       "13       99    100\n",
       "14      102    101\n",
       "15      103    102\n",
       "16      104    104\n",
       "17      105    112\n",
       "18      106    128\n",
       "19      129    144\n",
       "20      131    152\n",
       "21      135    153\n",
       "22      136    154\n",
       "23      137    156\n",
       "24      138    160\n",
       "25      160    192\n",
       "26      192    224\n",
       "27      225    240\n",
       "28      227    248\n",
       "29      231    249\n",
       "...     ...    ...\n",
       "3925  31776  31808\n",
       "3926  31808  31840\n",
       "3927  31843  31844\n",
       "3928  31846  31845\n",
       "3929  31847  31846\n",
       "3930  31848  31848\n",
       "3931  31849  31856\n",
       "3932  31850  31872\n",
       "3933  31875  31876\n",
       "3934  31878  31877\n",
       "3935  31879  31878\n",
       "3936  31880  31880\n",
       "3937  31883  31882\n",
       "3938  31885  31883\n",
       "3939  31886  31884\n",
       "3940  31887  31888\n",
       "3941  31888  31904\n",
       "3942  31904  31936\n",
       "3943  31937  31952\n",
       "3944  31939  31960\n",
       "3945  31943  31961\n",
       "3946  31944  31962\n",
       "3947  31945  31964\n",
       "3948  31946  31968\n",
       "3949  31969  31984\n",
       "3950  31971  31992\n",
       "3951  31973  31996\n",
       "3952  31975  31998\n",
       "3953  31977  31999\n",
       "3954  31978  32000\n",
       "\n",
       "[3955 rows x 2 columns]"
      ]
     },
     "execution_count": 361,
     "metadata": {},
     "output_type": "execute_result"
    }
   ],
   "source": [
    "pd.Series(num_negative).cumsum().reset_index()"
   ]
  },
  {
   "cell_type": "code",
   "execution_count": 332,
   "metadata": {},
   "outputs": [
    {
     "data": {
      "text/plain": [
       "{2: 8,\n",
       " 4: 4,\n",
       " 7: 1,\n",
       " 8: 1,\n",
       " 9: 2,\n",
       " 12: 4,\n",
       " 15: 1,\n",
       " 16: 1,\n",
       " 18: 1,\n",
       " 19: 1,\n",
       " 22: 2,\n",
       " 24: 1,\n",
       " 25: 1,\n",
       " 27: 2,\n",
       " 29: 1,\n",
       " 30: 1}"
      ]
     },
     "execution_count": 332,
     "metadata": {},
     "output_type": "execute_result"
    }
   ],
   "source": [
    "{k: len(v) for k, v in when_detect.items()}"
   ]
  },
  {
   "cell_type": "code",
   "execution_count": 283,
   "metadata": {},
   "outputs": [
    {
     "data": {
      "text/plain": [
       "[([(0, 0), (1, 0)], False),\n",
       " ([(3, 0)], False),\n",
       " ([(4, 0), (5, 0)], False),\n",
       " ([(8, 0), (9, 0), (10, 0), (11, 0)], False),\n",
       " ([(12, 0), (13, 0)], False),\n",
       " ([(15, 0)], False),\n",
       " ([(16, 0), (17, 0), (18, 0), (19, 0), (20, 0), (21, 0), (22, 0), (23, 0)],\n",
       "  False),\n",
       " ([(24, 0), (25, 0), (26, 0), (27, 0)], False),\n",
       " ([(29, 0)], False),\n",
       " ([(30, 0), (31, 0)], False),\n",
       " ([(0, 0), (1, 0)], False),\n",
       " ([(3, 0)], False),\n",
       " ([(4, 0), (5, 0)], False),\n",
       " ([(8, 0), (9, 0), (10, 0), (11, 0)], False),\n",
       " ([(12, 0), (13, 0)], False),\n",
       " ([(15, 0)], False),\n",
       " ([(16, 0), (17, 0), (18, 0), (19, 0), (20, 0), (21, 0), (22, 0), (23, 0)],\n",
       "  False),\n",
       " ([(24, 0), (25, 0), (26, 0), (27, 0)], False),\n",
       " ([(29, 0)], False),\n",
       " ([(30, 0), (31, 0)], False)]"
      ]
     },
     "execution_count": 283,
     "metadata": {},
     "output_type": "execute_result"
    }
   ],
   "source": [
    "[(x, y) for x, y in history if not y]"
   ]
  },
  {
   "cell_type": "code",
   "execution_count": 281,
   "metadata": {},
   "outputs": [
    {
     "data": {
      "text/plain": [
       "[(2, True),\n",
       " (3, False),\n",
       " (6, True),\n",
       " (7, True),\n",
       " (14, True),\n",
       " (15, False),\n",
       " (28, True),\n",
       " (29, False),\n",
       " (2, True),\n",
       " (3, False),\n",
       " (6, True),\n",
       " (7, True),\n",
       " (14, True),\n",
       " (15, False),\n",
       " (28, True),\n",
       " (29, False)]"
      ]
     },
     "execution_count": 281,
     "metadata": {},
     "output_type": "execute_result"
    }
   ],
   "source": [
    "[(x[0][0], y) for x, y in history if len(x) == 1]"
   ]
  },
  {
   "cell_type": "code",
   "execution_count": 200,
   "metadata": {},
   "outputs": [],
   "source": [
    "roster = {j: np.random.choice([1, 0], p=[0.2, 0.8]) for j in range(32)}"
   ]
  },
  {
   "cell_type": "code",
   "execution_count": 203,
   "metadata": {},
   "outputs": [
    {
     "name": "stderr",
     "output_type": "stream",
     "text": [
      "ERROR:root:Internal Python error in the inspect module.\n",
      "Below is the traceback from this internal error.\n",
      "\n"
     ]
    },
    {
     "name": "stdout",
     "output_type": "stream",
     "text": [
      "Traceback (most recent call last):\n",
      "  File \"/anaconda3/lib/python3.7/site-packages/IPython/core/interactiveshell.py\", line 3296, in run_code\n",
      "    exec(code_obj, self.user_global_ns, self.user_ns)\n",
      "  File \"<ipython-input-203-ad54c780eab0>\", line 1, in <module>\n",
      "    binary_test(roster)\n",
      "  File \"<ipython-input-198-78ead1710460>\", line 14, in binary_test\n",
      "    r2 = binary_test(b)\n",
      "  File \"<ipython-input-198-78ead1710460>\", line 14, in binary_test\n",
      "    r2 = binary_test(b)\n",
      "  File \"<ipython-input-198-78ead1710460>\", line 14, in binary_test\n",
      "    r2 = binary_test(b)\n",
      "  [Previous line repeated 2955 more times]\n",
      "  File \"<ipython-input-198-78ead1710460>\", line 11, in binary_test\n",
      "    a = {k: v for k, v in roster.items() if k in range(cut)}\n",
      "  File \"<ipython-input-198-78ead1710460>\", line 11, in <dictcomp>\n",
      "    a = {k: v for k, v in roster.items() if k in range(cut)}\n",
      "RecursionError: maximum recursion depth exceeded in comparison\n",
      "\n",
      "During handling of the above exception, another exception occurred:\n",
      "\n",
      "Traceback (most recent call last):\n",
      "  File \"/anaconda3/lib/python3.7/site-packages/IPython/core/interactiveshell.py\", line 2033, in showtraceback\n",
      "    stb = value._render_traceback_()\n",
      "AttributeError: 'RecursionError' object has no attribute '_render_traceback_'\n",
      "\n",
      "During handling of the above exception, another exception occurred:\n",
      "\n",
      "Traceback (most recent call last):\n",
      "  File \"/anaconda3/lib/python3.7/site-packages/IPython/core/ultratb.py\", line 1095, in get_records\n",
      "    return _fixed_getinnerframes(etb, number_of_lines_of_context, tb_offset)\n",
      "  File \"/anaconda3/lib/python3.7/site-packages/IPython/core/ultratb.py\", line 313, in wrapped\n",
      "    return f(*args, **kwargs)\n",
      "  File \"/anaconda3/lib/python3.7/site-packages/IPython/core/ultratb.py\", line 347, in _fixed_getinnerframes\n",
      "    records = fix_frame_records_filenames(inspect.getinnerframes(etb, context))\n",
      "  File \"/anaconda3/lib/python3.7/inspect.py\", line 1502, in getinnerframes\n",
      "    frameinfo = (tb.tb_frame,) + getframeinfo(tb, context)\n",
      "  File \"/anaconda3/lib/python3.7/inspect.py\", line 1464, in getframeinfo\n",
      "    lines, lnum = findsource(frame)\n",
      "  File \"/anaconda3/lib/python3.7/site-packages/IPython/core/ultratb.py\", line 167, in findsource\n",
      "    file = getsourcefile(object) or getfile(object)\n",
      "  File \"/anaconda3/lib/python3.7/inspect.py\", line 696, in getsourcefile\n",
      "    if getattr(getmodule(object, filename), '__loader__', None) is not None:\n",
      "  File \"/anaconda3/lib/python3.7/inspect.py\", line 733, in getmodule\n",
      "    if ismodule(module) and hasattr(module, '__file__'):\n",
      "KeyboardInterrupt\n"
     ]
    },
    {
     "ename": "RecursionError",
     "evalue": "maximum recursion depth exceeded in comparison",
     "output_type": "error",
     "traceback": [
      "\u001b[0;31m---------------------------------------------------------------------------\u001b[0m"
     ]
    }
   ],
   "source": [
    "binary_test(roster)"
   ]
  },
  {
   "cell_type": "code",
   "execution_count": 187,
   "metadata": {},
   "outputs": [],
   "source": [
    "roster = {1:1, 2:0}"
   ]
  },
  {
   "cell_type": "code",
   "execution_count": 192,
   "metadata": {},
   "outputs": [],
   "source": [
    "n = len(roster)\n",
    "results = {}\n",
    "\n",
    "cut = n // 2\n",
    "a = {k:v for k, v in roster.items() if k in range(cut + 1)}\n",
    "b = {k:v for k, v in roster.items() if k not in range(cut + 1)}\n"
   ]
  },
  {
   "cell_type": "code",
   "execution_count": 193,
   "metadata": {},
   "outputs": [
    {
     "data": {
      "text/plain": [
       "{1: 1}"
      ]
     },
     "execution_count": 193,
     "metadata": {},
     "output_type": "execute_result"
    }
   ],
   "source": [
    "a"
   ]
  },
  {
   "cell_type": "code",
   "execution_count": 194,
   "metadata": {},
   "outputs": [
    {
     "data": {
      "text/plain": [
       "{2: 0}"
      ]
     },
     "execution_count": 194,
     "metadata": {},
     "output_type": "execute_result"
    }
   ],
   "source": [
    "b"
   ]
  },
  {
   "cell_type": "code",
   "execution_count": 180,
   "metadata": {},
   "outputs": [],
   "source": [
    "r1 = binary_test(a)"
   ]
  },
  {
   "cell_type": "code",
   "execution_count": 181,
   "metadata": {},
   "outputs": [
    {
     "data": {
      "text/plain": [
       "{}"
      ]
     },
     "execution_count": 181,
     "metadata": {},
     "output_type": "execute_result"
    }
   ],
   "source": [
    "r1"
   ]
  },
  {
   "cell_type": "code",
   "execution_count": 182,
   "metadata": {},
   "outputs": [
    {
     "name": "stderr",
     "output_type": "stream",
     "text": [
      "ERROR:root:Internal Python error in the inspect module.\n",
      "Below is the traceback from this internal error.\n",
      "\n"
     ]
    },
    {
     "name": "stdout",
     "output_type": "stream",
     "text": [
      "Traceback (most recent call last):\n",
      "  File \"/anaconda3/lib/python3.7/site-packages/IPython/core/interactiveshell.py\", line 3296, in run_code\n",
      "    exec(code_obj, self.user_global_ns, self.user_ns)\n",
      "  File \"<ipython-input-182-10adbf6cffaa>\", line 1, in <module>\n",
      "    r2 = binary_test(b)\n",
      "  File \"<ipython-input-175-661b3eaafd02>\", line 15, in binary_test\n",
      "    r2 = binary_test(b)\n",
      "  File \"<ipython-input-175-661b3eaafd02>\", line 15, in binary_test\n",
      "    r2 = binary_test(b)\n",
      "  File \"<ipython-input-175-661b3eaafd02>\", line 15, in binary_test\n",
      "    r2 = binary_test(b)\n",
      "  [Previous line repeated 2955 more times]\n",
      "  File \"<ipython-input-175-661b3eaafd02>\", line 12, in binary_test\n",
      "    a = {k:v for k, v in roster.items() if k in range(cut)}\n",
      "  File \"<ipython-input-175-661b3eaafd02>\", line 12, in <dictcomp>\n",
      "    a = {k:v for k, v in roster.items() if k in range(cut)}\n",
      "RecursionError: maximum recursion depth exceeded in comparison\n",
      "\n",
      "During handling of the above exception, another exception occurred:\n",
      "\n",
      "Traceback (most recent call last):\n",
      "  File \"/anaconda3/lib/python3.7/site-packages/IPython/core/interactiveshell.py\", line 2033, in showtraceback\n",
      "    stb = value._render_traceback_()\n",
      "AttributeError: 'RecursionError' object has no attribute '_render_traceback_'\n",
      "\n",
      "During handling of the above exception, another exception occurred:\n",
      "\n",
      "Traceback (most recent call last):\n",
      "  File \"/anaconda3/lib/python3.7/site-packages/IPython/core/ultratb.py\", line 1095, in get_records\n",
      "    return _fixed_getinnerframes(etb, number_of_lines_of_context, tb_offset)\n",
      "  File \"/anaconda3/lib/python3.7/site-packages/IPython/core/ultratb.py\", line 313, in wrapped\n",
      "    return f(*args, **kwargs)\n",
      "  File \"/anaconda3/lib/python3.7/site-packages/IPython/core/ultratb.py\", line 347, in _fixed_getinnerframes\n",
      "    records = fix_frame_records_filenames(inspect.getinnerframes(etb, context))\n",
      "  File \"/anaconda3/lib/python3.7/inspect.py\", line 1502, in getinnerframes\n",
      "    frameinfo = (tb.tb_frame,) + getframeinfo(tb, context)\n",
      "  File \"/anaconda3/lib/python3.7/inspect.py\", line 1464, in getframeinfo\n",
      "    lines, lnum = findsource(frame)\n",
      "  File \"/anaconda3/lib/python3.7/site-packages/IPython/core/ultratb.py\", line 167, in findsource\n",
      "    file = getsourcefile(object) or getfile(object)\n",
      "  File \"/anaconda3/lib/python3.7/inspect.py\", line 696, in getsourcefile\n",
      "    if getattr(getmodule(object, filename), '__loader__', None) is not None:\n",
      "  File \"/anaconda3/lib/python3.7/inspect.py\", line 733, in getmodule\n",
      "    if ismodule(module) and hasattr(module, '__file__'):\n",
      "  File \"/anaconda3/lib/python3.7/inspect.py\", line 70, in ismodule\n",
      "    return isinstance(object, types.ModuleType)\n",
      "KeyboardInterrupt\n"
     ]
    },
    {
     "ename": "RecursionError",
     "evalue": "maximum recursion depth exceeded in comparison",
     "output_type": "error",
     "traceback": [
      "\u001b[0;31m---------------------------------------------------------------------------\u001b[0m"
     ]
    }
   ],
   "source": [
    "r2 = binary_test(b)"
   ]
  },
  {
   "cell_type": "code",
   "execution_count": 153,
   "metadata": {},
   "outputs": [
    {
     "data": {
      "text/plain": [
       "{0: 0, 1: 0}"
      ]
     },
     "execution_count": 153,
     "metadata": {},
     "output_type": "execute_result"
    }
   ],
   "source": [
    "r2 = binary_test(b)\n",
    "results.update(r1)\n",
    "results.update(r2)"
   ]
  },
  {
   "cell_type": "code",
   "execution_count": 158,
   "metadata": {},
   "outputs": [
    {
     "name": "stderr",
     "output_type": "stream",
     "text": [
      "ERROR:root:Internal Python error in the inspect module.\n",
      "Below is the traceback from this internal error.\n",
      "\n"
     ]
    },
    {
     "name": "stdout",
     "output_type": "stream",
     "text": [
      "Traceback (most recent call last):\n",
      "  File \"/anaconda3/lib/python3.7/site-packages/IPython/core/interactiveshell.py\", line 3296, in run_code\n",
      "    exec(code_obj, self.user_global_ns, self.user_ns)\n",
      "  File \"<ipython-input-158-4f48167d4551>\", line 1, in <module>\n",
      "    binary_test({0:0, 1:1, 2:0})\n",
      "  File \"<ipython-input-154-55439070d1c6>\", line 15, in binary_test\n",
      "    r2 = binary_test(b)\n",
      "  File \"<ipython-input-154-55439070d1c6>\", line 15, in binary_test\n",
      "    r2 = binary_test(b)\n",
      "  File \"<ipython-input-154-55439070d1c6>\", line 15, in binary_test\n",
      "    r2 = binary_test(b)\n",
      "  [Previous line repeated 2955 more times]\n",
      "  File \"<ipython-input-154-55439070d1c6>\", line 12, in binary_test\n",
      "    a = {k:v for k, v in roster.items() if k in range(cut)}\n",
      "  File \"<ipython-input-154-55439070d1c6>\", line 12, in <dictcomp>\n",
      "    a = {k:v for k, v in roster.items() if k in range(cut)}\n",
      "RecursionError: maximum recursion depth exceeded in comparison\n",
      "\n",
      "During handling of the above exception, another exception occurred:\n",
      "\n",
      "Traceback (most recent call last):\n",
      "  File \"/anaconda3/lib/python3.7/site-packages/IPython/core/interactiveshell.py\", line 2033, in showtraceback\n",
      "    stb = value._render_traceback_()\n",
      "AttributeError: 'RecursionError' object has no attribute '_render_traceback_'\n",
      "\n",
      "During handling of the above exception, another exception occurred:\n",
      "\n",
      "Traceback (most recent call last):\n",
      "  File \"/anaconda3/lib/python3.7/site-packages/IPython/core/ultratb.py\", line 1095, in get_records\n",
      "    return _fixed_getinnerframes(etb, number_of_lines_of_context, tb_offset)\n",
      "  File \"/anaconda3/lib/python3.7/site-packages/IPython/core/ultratb.py\", line 313, in wrapped\n",
      "    return f(*args, **kwargs)\n",
      "  File \"/anaconda3/lib/python3.7/site-packages/IPython/core/ultratb.py\", line 347, in _fixed_getinnerframes\n",
      "    records = fix_frame_records_filenames(inspect.getinnerframes(etb, context))\n",
      "  File \"/anaconda3/lib/python3.7/inspect.py\", line 1502, in getinnerframes\n",
      "    frameinfo = (tb.tb_frame,) + getframeinfo(tb, context)\n",
      "  File \"/anaconda3/lib/python3.7/inspect.py\", line 1460, in getframeinfo\n",
      "    filename = getsourcefile(frame) or getfile(frame)\n",
      "  File \"/anaconda3/lib/python3.7/inspect.py\", line 696, in getsourcefile\n",
      "    if getattr(getmodule(object, filename), '__loader__', None) is not None:\n",
      "  File \"/anaconda3/lib/python3.7/inspect.py\", line 733, in getmodule\n",
      "    if ismodule(module) and hasattr(module, '__file__'):\n",
      "KeyboardInterrupt\n"
     ]
    },
    {
     "ename": "RecursionError",
     "evalue": "maximum recursion depth exceeded in comparison",
     "output_type": "error",
     "traceback": [
      "\u001b[0;31m---------------------------------------------------------------------------\u001b[0m"
     ]
    }
   ],
   "source": [
    "binary_test({0:0, 1:1, 2:0})"
   ]
  },
  {
   "cell_type": "code",
   "execution_count": 140,
   "metadata": {},
   "outputs": [],
   "source": [
    "test_manager = TestManager(patient_list, testing_machine)"
   ]
  },
  {
   "cell_type": "code",
   "execution_count": 141,
   "metadata": {},
   "outputs": [
    {
     "data": {
      "text/plain": [
       "({1: <__main__.Patient at 0x11dcd9978>,\n",
       "  2: <__main__.Patient at 0x11dcd9c18>,\n",
       "  3: <__main__.Patient at 0x11dcd96a0>,\n",
       "  4: <__main__.Patient at 0x11dcd9080>,\n",
       "  5: <__main__.Patient at 0x11dcd9f98>,\n",
       "  6: <__main__.Patient at 0x11dcd9eb8>,\n",
       "  7: <__main__.Patient at 0x11dcd90b8>,\n",
       "  8: <__main__.Patient at 0x11dcd9898>,\n",
       "  9: <__main__.Patient at 0x11dcd9908>,\n",
       "  10: <__main__.Patient at 0x11dcd9390>,\n",
       "  11: <__main__.Patient at 0x11dcd9748>,\n",
       "  12: <__main__.Patient at 0x11dcd9518>,\n",
       "  13: <__main__.Patient at 0x11dcd9160>,\n",
       "  14: <__main__.Patient at 0x11dcd9dd8>,\n",
       "  15: <__main__.Patient at 0x11dcd9550>,\n",
       "  16: <__main__.Patient at 0x11dcd9828>},\n",
       " {17: <__main__.Patient at 0x11de7ab38>,\n",
       "  18: <__main__.Patient at 0x11de7aa20>,\n",
       "  19: <__main__.Patient at 0x11de7aba8>,\n",
       "  20: <__main__.Patient at 0x11de7a908>,\n",
       "  21: <__main__.Patient at 0x11de7af60>,\n",
       "  22: <__main__.Patient at 0x11de7a860>,\n",
       "  23: <__main__.Patient at 0x11de7a9b0>,\n",
       "  24: <__main__.Patient at 0x11de7a828>,\n",
       "  25: <__main__.Patient at 0x11de7abe0>,\n",
       "  26: <__main__.Patient at 0x11de7a898>,\n",
       "  27: <__main__.Patient at 0x11de7aa90>,\n",
       "  28: <__main__.Patient at 0x11de7ad30>,\n",
       "  29: <__main__.Patient at 0x11de7ad68>,\n",
       "  30: <__main__.Patient at 0x11de7a9e8>,\n",
       "  31: <__main__.Patient at 0x11de7aa58>,\n",
       "  32: <__main__.Patient at 0x11de7add8>})"
      ]
     },
     "execution_count": 141,
     "metadata": {},
     "output_type": "execute_result"
    }
   ],
   "source": [
    "test_manager.binary_search()"
   ]
  },
  {
   "cell_type": "code",
   "execution_count": 126,
   "metadata": {},
   "outputs": [
    {
     "data": {
      "text/plain": [
       "{1: ([1,\n",
       "   2,\n",
       "   3,\n",
       "   4,\n",
       "   5,\n",
       "   6,\n",
       "   7,\n",
       "   8,\n",
       "   9,\n",
       "   10,\n",
       "   11,\n",
       "   12,\n",
       "   13,\n",
       "   14,\n",
       "   15,\n",
       "   16,\n",
       "   17,\n",
       "   18,\n",
       "   19,\n",
       "   20,\n",
       "   21,\n",
       "   22,\n",
       "   23,\n",
       "   24,\n",
       "   25,\n",
       "   26,\n",
       "   27,\n",
       "   28,\n",
       "   29,\n",
       "   30,\n",
       "   31,\n",
       "   32],\n",
       "  True)}"
      ]
     },
     "execution_count": 126,
     "metadata": {},
     "output_type": "execute_result"
    }
   ],
   "source": [
    "test_manager.testing_machine.history"
   ]
  },
  {
   "cell_type": "code",
   "execution_count": 125,
   "metadata": {},
   "outputs": [
    {
     "data": {
      "text/plain": [
       "([1,\n",
       "  2,\n",
       "  3,\n",
       "  4,\n",
       "  5,\n",
       "  6,\n",
       "  7,\n",
       "  8,\n",
       "  9,\n",
       "  10,\n",
       "  11,\n",
       "  12,\n",
       "  13,\n",
       "  14,\n",
       "  15,\n",
       "  16,\n",
       "  17,\n",
       "  18,\n",
       "  19,\n",
       "  20,\n",
       "  21,\n",
       "  22,\n",
       "  23,\n",
       "  24,\n",
       "  25,\n",
       "  26,\n",
       "  27,\n",
       "  28,\n",
       "  29,\n",
       "  30,\n",
       "  31,\n",
       "  32],\n",
       " True)"
      ]
     },
     "execution_count": 125,
     "metadata": {},
     "output_type": "execute_result"
    }
   ],
   "source": [
    "test_manager._one_test(test_manager.patient_list)"
   ]
  },
  {
   "cell_type": "code",
   "execution_count": 31,
   "metadata": {},
   "outputs": [],
   "source": [
    "patients = [Patient() for _ in range(16)]"
   ]
  },
  {
   "cell_type": "code",
   "execution_count": 34,
   "metadata": {},
   "outputs": [],
   "source": [
    "n = len(patients)"
   ]
  },
  {
   "cell_type": "code",
   "execution_count": null,
   "metadata": {},
   "outputs": [],
   "source": [
    "patients[: n//2]"
   ]
  },
  {
   "cell_type": "code",
   "execution_count": 32,
   "metadata": {},
   "outputs": [],
   "source": [
    "status = {x.patient_num: x.get_status() for x in patients}"
   ]
  },
  {
   "cell_type": "code",
   "execution_count": 33,
   "metadata": {},
   "outputs": [
    {
     "data": {
      "text/plain": [
       "{1: 0,\n",
       " 2: 0,\n",
       " 3: 0,\n",
       " 4: 1,\n",
       " 5: 0,\n",
       " 6: 0,\n",
       " 7: 0,\n",
       " 8: 0,\n",
       " 9: 0,\n",
       " 10: 1,\n",
       " 11: 0,\n",
       " 12: 0,\n",
       " 13: 0,\n",
       " 14: 0,\n",
       " 15: 0,\n",
       " 16: 0}"
      ]
     },
     "execution_count": 33,
     "metadata": {},
     "output_type": "execute_result"
    }
   ],
   "source": [
    "status"
   ]
  },
  {
   "cell_type": "code",
   "execution_count": null,
   "metadata": {},
   "outputs": [],
   "source": []
  }
 ],
 "metadata": {
  "kernelspec": {
   "display_name": "Python 3",
   "language": "python",
   "name": "python3"
  },
  "language_info": {
   "codemirror_mode": {
    "name": "ipython",
    "version": 3
   },
   "file_extension": ".py",
   "mimetype": "text/x-python",
   "name": "python",
   "nbconvert_exporter": "python",
   "pygments_lexer": "ipython3",
   "version": "3.7.3"
  }
 },
 "nbformat": 4,
 "nbformat_minor": 2
}
